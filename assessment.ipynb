{
  "nbformat": 4,
  "nbformat_minor": 0,
  "metadata": {
    "colab": {
      "name": "assessment.ipynb",
      "provenance": [],
      "collapsed_sections": [],
      "authorship_tag": "ABX9TyPy0u4XjPKRGtWWI5GJukWs",
      "include_colab_link": true
    },
    "kernelspec": {
      "name": "python3",
      "display_name": "Python 3"
    }
  },
  "cells": [
    {
      "cell_type": "markdown",
      "metadata": {
        "id": "view-in-github",
        "colab_type": "text"
      },
      "source": [
        "<a href=\"https://colab.research.google.com/github/binsta/assess/blob/main/assessment.ipynb\" target=\"_parent\"><img src=\"https://colab.research.google.com/assets/colab-badge.svg\" alt=\"Open In Colab\"/></a>"
      ]
    },
    {
      "cell_type": "markdown",
      "metadata": {
        "id": "dYnQjjhlOLyV"
      },
      "source": [
        "## Ans 1: Fibonacci Series"
      ]
    },
    {
      "cell_type": "code",
      "metadata": {
        "id": "RiWGHSKqoSYa",
        "colab": {
          "base_uri": "https://localhost:8080/"
        },
        "outputId": "5df1c0af-ee5c-4267-ed2d-7808a43c7560"
      },
      "source": [
        "t = int(input())\n",
        "for i in range(t):\n",
        "    s = input()\n",
        "    lst = []\n",
        "    for i in set(s):\n",
        "        lst.append(s.count(i))\n",
        "    lst.sort()\n",
        "    \n",
        "    if len(lst)<3 or lst[-1]==lst[-2]+lst[-3]: \n",
        "        print(\"Dynamic\")\n",
        "    else:\n",
        "        print(\"Not\")"
      ],
      "execution_count": 14,
      "outputs": [
        {
          "output_type": "stream",
          "text": [
            "3\n",
            "aaaabccc\n",
            "Dynamic\n",
            "qqbbcc\n",
            "Not\n",
            "pppmmnnoooop\n",
            "Not\n"
          ],
          "name": "stdout"
        }
      ]
    },
    {
      "cell_type": "markdown",
      "metadata": {
        "id": "x6xVVhrMTbZZ"
      },
      "source": [
        "#Ans 2: Ordering Teams"
      ]
    },
    {
      "cell_type": "code",
      "metadata": {
        "colab": {
          "base_uri": "https://localhost:8080/"
        },
        "id": "q2hIR6oAThUc",
        "outputId": "86845926-266c-4bde-f65e-2ca35667035e"
      },
      "source": [
        "for _ in range(int(input())):\n",
        "    l=[]\n",
        "    condition=0\n",
        "    for i in range(3):\n",
        "        s1=list(map(int,input().split()))\n",
        "        if(s1 in l):\n",
        "            condition=1\n",
        "            break\n",
        "        l.append(s1)\n",
        "    if(condition):\n",
        "        print(\"no\")\n",
        "    else:\n",
        "        r=[]\n",
        "        l.sort(reverse=True)\n",
        "        for i in l:\n",
        "            # print(i)\n",
        "            for j in i:\n",
        "                r.append(j)\n",
        "        c=0\n",
        "        for _ in range(6,9):\n",
        "            if((r[_-6]>=r[_-3] and r[_-6]>=r[_])):\n",
        "                c+=1\n",
        "                continue\n",
        "            else:\n",
        "                print(\"no\")\n",
        "                break\n",
        "        if(c==3):\n",
        "            print(\"yes\")"
      ],
      "execution_count": 12,
      "outputs": [
        {
          "output_type": "stream",
          "text": [
            "3\n",
            "1 2 3\n",
            "2 3 4\n",
            "2 3 5\n",
            "yes\n",
            "1 2 3\n",
            "2 3 4\n",
            "2 3 4\n",
            "no\n",
            "5 6 5\n",
            "1 2 3\n",
            "2 3 4\n",
            "yes\n"
          ],
          "name": "stdout"
        }
      ]
    },
    {
      "cell_type": "markdown",
      "metadata": {
        "id": "nvmDTLwJTyfj"
      },
      "source": [
        "#Ans 3: Temple Land bold text"
      ]
    },
    {
      "cell_type": "code",
      "metadata": {
        "colab": {
          "base_uri": "https://localhost:8080/"
        },
        "id": "NzzDRrI_T48T",
        "outputId": "45b8b601-8239-4d3c-f437-abddfe56f8fc"
      },
      "source": [
        "S = int(input())\n",
        "                                   \n",
        "while S:                   \n",
        "    N = int(input())   \n",
        "    H=list(map(int,input().split())) # H is map out int input\n",
        "\n",
        "    if N%2 != 0:\n",
        "        if H[0]==1 and H[-1]==1:\n",
        "            s=0\n",
        "            for i in range(1, N//2+1): # line contains N integers H\n",
        "                if H[i]==H[-1-i] and H[i]==H[i-1]+1:\n",
        "                    s+=1\n",
        "                else:\n",
        "                    print(\"no\")\n",
        "                    break\n",
        "            if s==N//2:\n",
        "                print(\"yes\")\n",
        "        else:\n",
        "            print(\"no\")\n",
        "    else:\n",
        "        print(\"no\")\n",
        "\n",
        "    S = S-1"
      ],
      "execution_count": 46,
      "outputs": [
        {
          "output_type": "stream",
          "text": [
            "7\n",
            "5 \n",
            "1 2 3 2 1\n",
            "yes\n",
            "7\n",
            "2 3 4 5 4 3 2 \n",
            "no\n",
            "5\n",
            "1 2 3 4 3\n",
            "no\n",
            "5\n",
            "1 3 5 3 1 \n",
            "no\n",
            "7\n",
            "1 2 3 4 3 2 1 \n",
            "yes\n",
            "4\n",
            "1 2 3 2 \n",
            "no\n",
            "4\n",
            "1 2 2 1\n",
            "no\n"
          ],
          "name": "stdout"
        }
      ]
    },
    {
      "cell_type": "markdown",
      "metadata": {
        "id": "bb9WKXlLN-QV"
      },
      "source": [
        "#Ans 4: Bear and Milk Coookies"
      ]
    },
    {
      "cell_type": "code",
      "metadata": {
        "colab": {
          "base_uri": "https://localhost:8080/"
        },
        "id": "A49YXI0gMd7B",
        "outputId": "bc7264fa-0946-47dd-c994-176d19425a7f"
      },
      "source": [
        "for _ in range(int(input())):\n",
        "    n=int(input())\n",
        "    s=input()\n",
        "    if (\"cookie\" in s):\n",
        "        if ((\"cookie cookie\" in s) or (\"cookie milk\" not in s)):\n",
        "            print(\"NO\")\n",
        "        else:\n",
        "            print(\"YES\")\n",
        "    else:\n",
        "        print(\"YES\")"
      ],
      "execution_count": 10,
      "outputs": [
        {
          "output_type": "stream",
          "text": [
            "4\n",
            "7\n",
            "cookie milk milk cookie milk cookie milk\n",
            "YES\n",
            "5\n",
            "cookie cookie milk milk milk\n",
            "NO\n",
            "4\n",
            "milk milk milk milk\n",
            "YES\n",
            "1\n",
            "cookie \n",
            "NO\n"
          ],
          "name": "stdout"
        }
      ]
    },
    {
      "cell_type": "markdown",
      "metadata": {
        "id": "C6aTO8PvOT-z"
      },
      "source": [
        "#Ans 5: Beautiful Array"
      ]
    },
    {
      "cell_type": "code",
      "metadata": {
        "colab": {
          "base_uri": "https://localhost:8080/"
        },
        "id": "RYd7LgflOaKp",
        "outputId": "143080a4-3157-4fef-fd9a-8dc3569e2aed"
      },
      "source": [
        "try:\n",
        "    for _ in range(int(input())):\n",
        "        n = int(input())\n",
        "        l = list(map(int, input().split()))\n",
        "        cnt = [l.count(-1), l.count(0), l.count(1)]\n",
        "        c = len(l) - sum(cnt)\n",
        "        \n",
        "        if c > 1:\n",
        "            print(\"no\")\n",
        "        else:\n",
        "\n",
        "            if c and cnt[0]:\n",
        "                print(\"no\")\n",
        "            elif (cnt[0]>1 and cnt[2] == 0) :\n",
        "                print(\"no\")\n",
        "            else:\n",
        "                print(\"yes\")\n",
        "except:\n",
        "    pass"
      ],
      "execution_count": 32,
      "outputs": [
        {
          "output_type": "stream",
          "text": [
            "3\n",
            "2\n",
            "0 1\n",
            "yes\n",
            "2\n",
            "1 2\n",
            "yes\n",
            "2\n",
            "5 6\n",
            "no\n"
          ],
          "name": "stdout"
        }
      ]
    },
    {
      "cell_type": "markdown",
      "metadata": {
        "id": "13kkM_cIPfXV"
      },
      "source": [
        "# Ans 6: Cats and Dogs"
      ]
    },
    {
      "cell_type": "code",
      "metadata": {
        "colab": {
          "base_uri": "https://localhost:8080/"
        },
        "id": "aMSwlX1oOxfY",
        "outputId": "cb206150-5786-4cc3-e196-25f6aaabd6df"
      },
      "source": [
        "\n",
        "t = int(input())\n",
        "for _ in range(t):\n",
        "    c, d, l = map(int, input().split())\n",
        "    ma = (c+d)*4\n",
        "    if (c > (d*2)):\n",
        "        mi = (c - (d * 2) + d) * 4\n",
        "    else:\n",
        "        mi = d * 4\n",
        "    if l % 4 == 0 and l >= mi and l <= ma:\n",
        "        print(\"yes\")\n",
        "    else:\n",
        "        print(\"no\")"
      ],
      "execution_count": 34,
      "outputs": [
        {
          "output_type": "stream",
          "text": [
            "3\n",
            "1 1 8\n",
            "yes\n",
            "1 1 4\n",
            "yes\n",
            "1 1 2\n",
            "no\n"
          ],
          "name": "stdout"
        }
      ]
    },
    {
      "cell_type": "markdown",
      "metadata": {
        "id": "-jFie8SDRIyZ"
      },
      "source": [
        "# Ans 7: Sticks"
      ]
    },
    {
      "cell_type": "code",
      "metadata": {
        "colab": {
          "base_uri": "https://localhost:8080/"
        },
        "id": "RTeWLnqDQL09",
        "outputId": "611c42b1-ec12-4e39-bfce-e95f46d7ddb5"
      },
      "source": [
        "t=int(input())\n",
        "while t:\n",
        "    n=int(input())\n",
        "    a=[int(x) for x in input().split()]\n",
        "    s=list(set(a))\n",
        "    s.sort()\n",
        "    s.reverse()\n",
        "    b=0\n",
        "    c=1\n",
        "    for _ in s:\n",
        "        if a.count(_)>1 and b<2:\n",
        "            c=c*_\n",
        "            b=b+1\n",
        "        if a.count(_)>3 and b<2:\n",
        "            c=c*_\n",
        "            b=b+1\n",
        "        if b==2:\n",
        "            print(c)\n",
        "            break\n",
        "    if b<2:\n",
        "        print(-1)\n",
        "    t=t-1\n",
        "        "
      ],
      "execution_count": 11,
      "outputs": [
        {
          "output_type": "stream",
          "text": [
            "2\n",
            "5\n",
            "1 2 3 1 2 \n",
            "2\n",
            "4\n",
            "1 2 2 3\n",
            "-1\n"
          ],
          "name": "stdout"
        }
      ]
    },
    {
      "cell_type": "markdown",
      "metadata": {
        "id": "sK3zHgG4RRmc"
      },
      "source": [
        "#Ans 8: Two Number "
      ]
    },
    {
      "cell_type": "code",
      "metadata": {
        "colab": {
          "base_uri": "https://localhost:8080/"
        },
        "id": "1oESlNaYQmuy",
        "outputId": "bfebbd10-6b0a-4b72-e728-e08b51ef6eef"
      },
      "source": [
        "for _ in range(int(input())):\n",
        "    a,b,k=map(int,input().split())\n",
        "    if k%2==0:\n",
        "        print(max(a,b)//min(a,b))\n",
        "    else:\n",
        "        print(max(2*a,b)//min(2*a,b))\n"
      ],
      "execution_count": 39,
      "outputs": [
        {
          "output_type": "stream",
          "text": [
            "3\n",
            "1 2 1\n",
            "1\n",
            "3 2 3\n",
            "3\n",
            "3 7 2\n",
            "2\n"
          ],
          "name": "stdout"
        }
      ]
    },
    {
      "cell_type": "markdown",
      "metadata": {
        "id": "jij0rTvER8Qy"
      },
      "source": [
        "#Ans 9: Minimum Maximum"
      ]
    },
    {
      "cell_type": "code",
      "metadata": {
        "colab": {
          "base_uri": "https://localhost:8080/"
        },
        "id": "ZU0SPlRGR0vk",
        "outputId": "3ccf93c1-24e4-48c1-8ce2-2cc60ccc9cd8"
      },
      "source": [
        "for _ in range(int(input())):\n",
        "    n = int(input())\n",
        "    a = list(map(int, input().split()))\n",
        "    print(min(a)*(n-1))"
      ],
      "execution_count": 42,
      "outputs": [
        {
          "output_type": "stream",
          "text": [
            "2\n",
            "2\n",
            "3 4 \n",
            "3\n",
            "3\n",
            "4 2 5\n",
            "4\n"
          ],
          "name": "stdout"
        }
      ]
    },
    {
      "cell_type": "markdown",
      "metadata": {
        "id": "GcfEFOd5Smiy"
      },
      "source": [
        "#Ans 10: Gross salary"
      ]
    },
    {
      "cell_type": "code",
      "metadata": {
        "colab": {
          "base_uri": "https://localhost:8080/"
        },
        "id": "X3yZjpOXSTw3",
        "outputId": "997c0e24-f175-43a5-e801-324550165a61"
      },
      "source": [
        "\n",
        "for _ in range(int(input())):\n",
        "    sal = int(input())\n",
        "    if sal < 1500:\n",
        "        gross = 2*sal\n",
        "    else:\n",
        "        gross = sal*198/100 + 500\n",
        "        # :. 2f is place holder of floating point\n",
        "    print(\"{:.2f}\".format(gross))"
      ],
      "execution_count": 43,
      "outputs": [
        {
          "output_type": "stream",
          "text": [
            "3\n",
            "1203\n",
            "2406.00\n",
            "10042\n",
            "20383.16\n",
            "1312\n",
            "2624.00\n"
          ],
          "name": "stdout"
        }
      ]
    }
  ]
}